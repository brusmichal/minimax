{
 "cells": [
  {
   "cell_type": "markdown",
   "source": [
    "# WSI 2022L\n",
    "# Laboratorium 3 (Dwuosobowe gry deterministyczne)\n",
    "# Michał Brus, 299106"
   ],
   "metadata": {
    "collapsed": false,
    "pycharm": {
     "name": "#%% md\n"
    }
   }
  },
  {
   "cell_type": "markdown",
   "source": [
    "## Czysty algorytm minimax z obcięciem alfa/beta"
   ],
   "metadata": {
    "collapsed": false,
    "pycharm": {
     "name": "#%% md\n"
    }
   }
  },
  {
   "cell_type": "code",
   "execution_count": 8,
   "outputs": [],
   "source": [
    "def alpha_beta(position, depth, alpha, beta, max_player):\n",
    "    if depth == 0 or position == 'terminal':\n",
    "        return evaluate(position)\n",
    "    if current_player is max_player:\n",
    "        max_eval = -math.inf\n",
    "        for child in children(position):\n",
    "            eval = alpha_beta(child, depth - 1, alpha, beta, False)\n",
    "            max_eval = max(max_eval, eval)\n",
    "            alpha = max(alpha, eval)\n",
    "            if beta <= alpha:\n",
    "                break\n",
    "        return max_eval\n",
    "    else:\n",
    "        min_eval = math.inf\n",
    "        for child in children(position):\n",
    "            eval = alpha_beta(child, depth - 1, alpha, beta, True)\n",
    "            min_eval = min(min_eval, eval)\n",
    "            beta = min(beta, eval)\n",
    "            if beta <= alpha:\n",
    "                break\n",
    "        return min_eval\n"
   ],
   "metadata": {
    "collapsed": false,
    "pycharm": {
     "name": "#%%\n"
    }
   }
  },
  {
   "cell_type": "markdown",
   "source": [
    "## Algorytm minimax z obcięciem alfa/beta (dostosowany do gry ConnectFour)"
   ],
   "metadata": {
    "collapsed": false,
    "pycharm": {
     "name": "#%% md\n"
    }
   }
  },
  {
   "cell_type": "code",
   "execution_count": 9,
   "outputs": [],
   "source": [
    "import math\n",
    "\n",
    "import numpy as np\n",
    "\n",
    "\n",
    "def evaluate(game_state):\n",
    "    return game_state.get_heuristic()\n",
    "\n",
    "\n",
    "def get_winner(game_state):\n",
    "    return game_state.get_winner()\n",
    "\n",
    "\n",
    "def current_player(game_state):\n",
    "    return game_state.get_current_player()\n",
    "\n",
    "\n",
    "def is_finished(game_state):\n",
    "    return game_state.is_finished()\n",
    "\n",
    "\n",
    "# def make_children(game_state):\n",
    "#     possible_moves = game_state.get_moves()\n",
    "#     possible_states = []\n",
    "#     for move in possible_moves:\n",
    "#         possible_states += [game_state.make_move(move)]\n",
    "#     return possible_states, possible_moves\n",
    "\n",
    "\n",
    "def alpha_beta(game_state, depth, alpha, beta, maximising_player):\n",
    "    if depth == 0 or is_finished(game_state):\n",
    "        if is_finished(game_state):\n",
    "            winner = get_winner(game_state)\n",
    "            if winner is current_player(game_state):\n",
    "                return 10e6, None\n",
    "            elif winner is not (current_player(game_state) or None):\n",
    "                return -10e6, None\n",
    "            else:\n",
    "                return 0, None\n",
    "        else:\n",
    "            return evaluate(game_state), None\n",
    "    if maximising_player:\n",
    "        max_eval = -math.inf\n",
    "        possible_moves = game_state.get_moves()\n",
    "        rng = np.random.default_rng()\n",
    "        rng.shuffle(possible_moves)\n",
    "        best_move = rng.choice(possible_moves)\n",
    "        for move in possible_moves:\n",
    "            state = game_state.make_move(move)\n",
    "            eval = alpha_beta(state, depth - 1, alpha, beta, False)[0]\n",
    "            if eval > max_eval:\n",
    "                max_eval = eval\n",
    "                best_move = move\n",
    "            elif max_eval == eval:\n",
    "                rng = np.random.default_rng()\n",
    "                best_move = rng.choice([best_move, move])\n",
    "            alpha = max(alpha, max_eval)\n",
    "            if alpha >= beta:\n",
    "                break\n",
    "\n",
    "        return max_eval, best_move\n",
    "    else:\n",
    "        min_eval = math.inf\n",
    "        possible_moves = game_state.get_moves()\n",
    "        rng = np.random.default_rng()\n",
    "        rng.shuffle(possible_moves)\n",
    "        best_move = rng.choice(possible_moves)\n",
    "        for move in possible_moves:\n",
    "            state = game_state.make_move(move)\n",
    "            eval = alpha_beta(state, depth - 1, alpha, beta, True)[0]\n",
    "            if eval < min_eval:\n",
    "                min_eval = eval\n",
    "                best_move = move\n",
    "            elif min_eval == eval:\n",
    "                rng = np.random.default_rng()\n",
    "                best_move = rng.choice([best_move, move])\n",
    "            min_eval = min(min_eval, eval)\n",
    "            beta = min(beta, min_eval)\n",
    "            if alpha >= beta:\n",
    "                break\n",
    "        return min_eval, best_move\n"
   ],
   "metadata": {
    "collapsed": false,
    "pycharm": {
     "name": "#%%\n"
    }
   }
  },
  {
   "cell_type": "markdown",
   "source": [
    "### Do oceny stanu planszy służy funkcja heurysytczna dodana do kodu gry w pliku: games_examples/two_player_games/games/connect_four.py"
   ],
   "metadata": {
    "collapsed": false,
    "pycharm": {
     "name": "#%% md\n"
    }
   }
  },
  {
   "cell_type": "markdown",
   "source": [
    "Funkcja get_heuristic() korzysta z funkcji pomocniczej _heuristic()"
   ],
   "metadata": {
    "collapsed": false,
    "pycharm": {
     "name": "#%% md\n"
    }
   }
  },
  {
   "cell_type": "markdown",
   "source": [
    "## Uruchomienie gry"
   ],
   "metadata": {
    "collapsed": false,
    "pycharm": {
     "name": "#%% md\n"
    }
   }
  },
  {
   "cell_type": "code",
   "execution_count": 10,
   "outputs": [],
   "source": [
    "import c4_alfa_beta as ai\n",
    "import math\n",
    "\n",
    "from games_examples.two_player_games.player import Player\n",
    "from games_examples.two_player_games.games.connect_four import ConnectFour, ConnectFourMove, ConnectFourState\n",
    "\n",
    "\n",
    "def run(depth_1, depth_2, with_print, interactive):\n",
    "    p1 = Player('a')\n",
    "    p2 = Player('b')\n",
    "    game = ConnectFour(first_player=p1, second_player=p2)\n",
    "\n",
    "    if with_print:\n",
    "        print(str(game))\n",
    "    while not game.is_finished():\n",
    "        game_state = game.state\n",
    "        if interactive:\n",
    "            a_points, a_move = ai.alpha_beta(game_state, depth_1, -math.inf, math.inf, True)\n",
    "            game.make_move(a_move)\n",
    "            print(f\"Wartość ruchu a: {a_points} \\n\")\n",
    "            print(str(game))\n",
    "            b_move = ConnectFourMove(int(input(\"Podaj nr kolumny:\")))\n",
    "            game.make_move(b_move)\n",
    "            print(str(game))\n",
    "\n",
    "        else:\n",
    "            a_points, a_move = ai.alpha_beta(game_state, depth_1, -math.inf, math.inf, True)\n",
    "            b_points, b_move = ai.alpha_beta(game_state, depth_2, -math.inf, math.inf, False)\n",
    "            if with_print:\n",
    "                game.make_move(a_move)\n",
    "                print(f\"Wartość ruchu a: {a_points} \\n\")\n",
    "                print(str(game))\n",
    "                game.make_move(b_move)\n",
    "                print(f\"Wartość ruchu b: {b_points} \\n\")\n",
    "                print(str(game))\n",
    "            else:\n",
    "                game.make_move(a_move)\n",
    "                game.make_move(b_move)\n",
    "\n",
    "    winner = game.get_winner()\n",
    "    if winner == p1:\n",
    "        if with_print:\n",
    "            print(\"\\nWygrywa a!\")\n",
    "        return 'p1'\n",
    "    elif winner == p2:\n",
    "        if with_print:\n",
    "            print(\"\\nWygrywa b!\")\n",
    "        return 'p2'\n",
    "    else:\n",
    "        if with_print:\n",
    "            print(\"\\nRemis!\")\n",
    "        return 'r'"
   ],
   "metadata": {
    "collapsed": false,
    "pycharm": {
     "name": "#%%\n"
    }
   }
  },
  {
   "cell_type": "markdown",
   "source": [
    "Gra może zostać uruchomiona w trybie interaktywnym, gdzie gracz gra z AI lub dwa AI przeciwko sobie. Można też włączyć opcję wyświetlania wyników na konsoli (opcja print)."
   ],
   "metadata": {
    "collapsed": false,
    "pycharm": {
     "name": "#%% md\n"
    }
   }
  },
  {
   "cell_type": "markdown",
   "source": [
    "## Przykładowe uruchomienie z opcją print dla depth_1 = 1, depth_2 = 2"
   ],
   "metadata": {
    "collapsed": false,
    "pycharm": {
     "name": "#%% md\n"
    }
   }
  },
  {
   "cell_type": "code",
   "execution_count": 11,
   "outputs": [
    {
     "name": "stdout",
     "output_type": "stream",
     "text": [
      "Current player: a\n",
      "[ ][ ][ ][ ][ ][ ][ ]\n",
      "[ ][ ][ ][ ][ ][ ][ ]\n",
      "[ ][ ][ ][ ][ ][ ][ ]\n",
      "[ ][ ][ ][ ][ ][ ][ ]\n",
      "[ ][ ][ ][ ][ ][ ][ ]\n",
      "[ ][ ][ ][ ][ ][ ][ ]\n",
      "Wartość ruchu a: 0 \n",
      "\n",
      "Current player: b\n",
      "[ ][ ][ ][ ][ ][ ][ ]\n",
      "[ ][ ][ ][ ][ ][ ][ ]\n",
      "[ ][ ][ ][ ][ ][ ][ ]\n",
      "[ ][ ][ ][ ][ ][ ][ ]\n",
      "[ ][ ][ ][ ][ ][ ][ ]\n",
      "[ ][ ][ ][ ][a][ ][ ]\n",
      "Wartość ruchu b: 0 \n",
      "\n",
      "Current player: a\n",
      "[ ][ ][ ][ ][ ][ ][ ]\n",
      "[ ][ ][ ][ ][ ][ ][ ]\n",
      "[ ][ ][ ][ ][ ][ ][ ]\n",
      "[ ][ ][ ][ ][ ][ ][ ]\n",
      "[ ][ ][ ][ ][ ][ ][ ]\n",
      "[ ][ ][ ][ ][a][ ][b]\n",
      "Wartość ruchu a: 0 \n",
      "\n",
      "Current player: b\n",
      "[ ][ ][ ][ ][ ][ ][ ]\n",
      "[ ][ ][ ][ ][ ][ ][ ]\n",
      "[ ][ ][ ][ ][ ][ ][ ]\n",
      "[ ][ ][ ][ ][ ][ ][ ]\n",
      "[ ][ ][ ][ ][ ][ ][ ]\n",
      "[ ][ ][ ][a][a][ ][b]\n",
      "Wartość ruchu b: 0 \n",
      "\n",
      "Current player: a\n",
      "[ ][ ][ ][ ][ ][ ][ ]\n",
      "[ ][ ][ ][ ][ ][ ][ ]\n",
      "[ ][ ][ ][ ][ ][ ][ ]\n",
      "[ ][ ][ ][ ][ ][ ][ ]\n",
      "[ ][ ][ ][ ][ ][ ][b]\n",
      "[ ][ ][ ][a][a][ ][b]\n",
      "Wartość ruchu a: 2 \n",
      "\n",
      "Current player: b\n",
      "[ ][ ][ ][ ][ ][ ][ ]\n",
      "[ ][ ][ ][ ][ ][ ][ ]\n",
      "[ ][ ][ ][ ][ ][ ][ ]\n",
      "[ ][ ][ ][ ][ ][ ][ ]\n",
      "[ ][ ][ ][ ][a][ ][b]\n",
      "[ ][ ][ ][a][a][ ][b]\n",
      "Wartość ruchu b: 4 \n",
      "\n",
      "Current player: a\n",
      "[ ][ ][ ][ ][ ][ ][ ]\n",
      "[ ][ ][ ][ ][ ][ ][ ]\n",
      "[ ][ ][ ][ ][ ][ ][ ]\n",
      "[ ][ ][ ][ ][ ][ ][b]\n",
      "[ ][ ][ ][ ][a][ ][b]\n",
      "[ ][ ][ ][a][a][ ][b]\n",
      "Wartość ruchu a: 7 \n",
      "\n",
      "Current player: b\n",
      "[ ][ ][ ][ ][ ][ ][ ]\n",
      "[ ][ ][ ][ ][ ][ ][ ]\n",
      "[ ][ ][ ][ ][ ][ ][ ]\n",
      "[ ][ ][ ][ ][ ][ ][b]\n",
      "[ ][ ][ ][ ][a][ ][b]\n",
      "[a][ ][ ][a][a][ ][b]\n",
      "Wartość ruchu b: 6 \n",
      "\n",
      "Current player: a\n",
      "[ ][ ][ ][ ][ ][ ][ ]\n",
      "[ ][ ][ ][ ][ ][ ][ ]\n",
      "[ ][ ][ ][ ][ ][ ][ ]\n",
      "[ ][ ][ ][ ][ ][ ][b]\n",
      "[b][ ][ ][ ][a][ ][b]\n",
      "[a][ ][ ][a][a][ ][b]\n",
      "Wartość ruchu a: 7 \n",
      "\n",
      "Current player: b\n",
      "[ ][ ][ ][ ][ ][ ][ ]\n",
      "[ ][ ][ ][ ][ ][ ][ ]\n",
      "[ ][ ][ ][ ][ ][ ][ ]\n",
      "[ ][ ][ ][ ][ ][ ][b]\n",
      "[b][ ][ ][a][a][ ][b]\n",
      "[a][ ][ ][a][a][ ][b]\n",
      "Wartość ruchu b: 6 \n",
      "\n",
      "Current player: a\n",
      "[ ][ ][ ][ ][ ][ ][ ]\n",
      "[ ][ ][ ][ ][ ][ ][ ]\n",
      "[ ][ ][ ][ ][ ][ ][ ]\n",
      "[b][ ][ ][ ][ ][ ][b]\n",
      "[b][ ][ ][a][a][ ][b]\n",
      "[a][ ][ ][a][a][ ][b]\n",
      "Wartość ruchu a: 7 \n",
      "\n",
      "Current player: b\n",
      "[ ][ ][ ][ ][ ][ ][ ]\n",
      "[ ][ ][ ][ ][ ][ ][ ]\n",
      "[a][ ][ ][ ][ ][ ][ ]\n",
      "[b][ ][ ][ ][ ][ ][b]\n",
      "[b][ ][ ][a][a][ ][b]\n",
      "[a][ ][ ][a][a][ ][b]\n",
      "Wartość ruchu b: 16 \n",
      "\n",
      "Current player: a\n",
      "[ ][ ][ ][ ][ ][ ][ ]\n",
      "[b][ ][ ][ ][ ][ ][ ]\n",
      "[a][ ][ ][ ][ ][ ][ ]\n",
      "[b][ ][ ][ ][ ][ ][b]\n",
      "[b][ ][ ][a][a][ ][b]\n",
      "[a][ ][ ][a][a][ ][b]\n",
      "Wartość ruchu a: 7 \n",
      "\n",
      "Current player: b\n",
      "[a][ ][ ][ ][ ][ ][ ]\n",
      "[b][ ][ ][ ][ ][ ][ ]\n",
      "[a][ ][ ][ ][ ][ ][ ]\n",
      "[b][ ][ ][ ][ ][ ][b]\n",
      "[b][ ][ ][a][a][ ][b]\n",
      "[a][ ][ ][a][a][ ][b]\n",
      "Wartość ruchu b: 14 \n",
      "\n",
      "Current player: a\n",
      "[a][ ][ ][ ][ ][ ][ ]\n",
      "[b][ ][ ][ ][ ][ ][ ]\n",
      "[a][ ][ ][ ][ ][ ][ ]\n",
      "[b][ ][ ][ ][ ][ ][b]\n",
      "[b][ ][ ][a][a][ ][b]\n",
      "[a][ ][ ][a][a][ ][b]\n",
      "Wartość ruchu a: 3 \n",
      "\n",
      "Current player: b\n",
      "[a][ ][ ][ ][ ][ ][ ]\n",
      "[b][ ][ ][ ][ ][ ][ ]\n",
      "[a][ ][ ][ ][ ][ ][ ]\n",
      "[b][ ][ ][a][ ][ ][b]\n",
      "[b][ ][ ][a][a][ ][b]\n",
      "[a][ ][ ][a][a][ ][b]\n",
      "Wartość ruchu b: 19 \n",
      "\n",
      "Current player: a\n",
      "[a][ ][ ][ ][ ][ ][ ]\n",
      "[b][ ][ ][ ][ ][ ][ ]\n",
      "[a][ ][ ][ ][ ][ ][ ]\n",
      "[b][ ][ ][a][ ][ ][b]\n",
      "[b][ ][ ][a][a][ ][b]\n",
      "[a][ ][ ][a][a][b][b]\n",
      "Wartość ruchu a: -1 \n",
      "\n",
      "Current player: b\n",
      "[a][ ][ ][ ][ ][ ][ ]\n",
      "[b][ ][ ][ ][ ][ ][ ]\n",
      "[a][ ][ ][ ][ ][ ][ ]\n",
      "[b][ ][ ][a][ ][ ][b]\n",
      "[b][ ][ ][a][a][a][b]\n",
      "[a][ ][ ][a][a][b][b]\n",
      "Wartość ruchu b: -10000000.0 \n",
      "\n",
      "Current player: a\n",
      "[a][ ][ ][ ][ ][ ][ ]\n",
      "[b][ ][ ][ ][ ][ ][ ]\n",
      "[a][ ][ ][b][ ][ ][ ]\n",
      "[b][ ][ ][a][ ][ ][b]\n",
      "[b][ ][ ][a][a][a][b]\n",
      "[a][ ][ ][a][a][b][b]\n",
      "Wartość ruchu a: 3 \n",
      "\n",
      "Current player: b\n",
      "[a][ ][ ][ ][ ][ ][ ]\n",
      "[b][ ][ ][a][ ][ ][ ]\n",
      "[a][ ][ ][b][ ][ ][ ]\n",
      "[b][ ][ ][a][ ][ ][b]\n",
      "[b][ ][ ][a][a][a][b]\n",
      "[a][ ][ ][a][a][b][b]\n",
      "Wartość ruchu b: 19 \n",
      "\n",
      "Current player: a\n",
      "[a][ ][ ][b][ ][ ][ ]\n",
      "[b][ ][ ][a][ ][ ][ ]\n",
      "[a][ ][ ][b][ ][ ][ ]\n",
      "[b][ ][ ][a][ ][ ][b]\n",
      "[b][ ][ ][a][a][a][b]\n",
      "[a][ ][ ][a][a][b][b]\n",
      "Wartość ruchu a: 3 \n",
      "\n",
      "Current player: b\n",
      "[a][ ][ ][b][ ][ ][ ]\n",
      "[b][ ][ ][a][ ][ ][ ]\n",
      "[a][ ][ ][b][ ][ ][ ]\n",
      "[b][ ][ ][a][ ][a][b]\n",
      "[b][ ][ ][a][a][a][b]\n",
      "[a][ ][ ][a][a][b][b]\n",
      "Wartość ruchu b: 23 \n",
      "\n",
      "Current player: a\n",
      "[a][ ][ ][b][ ][ ][ ]\n",
      "[b][ ][ ][a][ ][ ][ ]\n",
      "[a][ ][ ][b][ ][ ][ ]\n",
      "[b][ ][ ][a][ ][a][b]\n",
      "[b][ ][ ][a][a][a][b]\n",
      "[a][b][ ][a][a][b][b]\n",
      "Wartość ruchu a: 3 \n",
      "\n",
      "Current player: b\n",
      "[a][ ][ ][b][ ][ ][ ]\n",
      "[b][ ][ ][a][ ][ ][ ]\n",
      "[a][ ][ ][b][ ][ ][ ]\n",
      "[b][ ][ ][a][ ][a][b]\n",
      "[b][ ][ ][a][a][a][b]\n",
      "[a][b][a][a][a][b][b]\n",
      "Wartość ruchu b: -10000000.0 \n",
      "\n",
      "Current player: a\n",
      "[a][ ][ ][b][ ][ ][ ]\n",
      "[b][ ][ ][a][ ][ ][ ]\n",
      "[a][ ][ ][b][ ][ ][ ]\n",
      "[b][ ][ ][a][b][a][b]\n",
      "[b][ ][ ][a][a][a][b]\n",
      "[a][b][a][a][a][b][b]\n",
      "Wartość ruchu a: 1 \n",
      "\n",
      "Current player: b\n",
      "[a][ ][ ][b][ ][ ][ ]\n",
      "[b][ ][ ][a][ ][ ][ ]\n",
      "[a][ ][ ][b][ ][ ][ ]\n",
      "[b][ ][ ][a][b][a][b]\n",
      "[b][a][ ][a][a][a][b]\n",
      "[a][b][a][a][a][b][b]\n",
      "Wartość ruchu b: -10000000.0 \n",
      "\n",
      "Current player: a\n",
      "[a][ ][ ][b][ ][ ][ ]\n",
      "[b][ ][ ][a][ ][ ][ ]\n",
      "[a][ ][ ][b][ ][ ][ ]\n",
      "[b][ ][ ][a][b][a][b]\n",
      "[b][a][b][a][a][a][b]\n",
      "[a][b][a][a][a][b][b]\n",
      "Wartość ruchu a: 9 \n",
      "\n",
      "Current player: b\n",
      "[a][ ][ ][b][ ][ ][ ]\n",
      "[b][ ][ ][a][ ][ ][ ]\n",
      "[a][ ][ ][b][ ][ ][ ]\n",
      "[b][a][ ][a][b][a][b]\n",
      "[b][a][b][a][a][a][b]\n",
      "[a][b][a][a][a][b][b]\n",
      "Wartość ruchu b: -10000000.0 \n",
      "\n",
      "Current player: a\n",
      "[a][ ][ ][b][ ][ ][ ]\n",
      "[b][ ][ ][a][ ][ ][ ]\n",
      "[a][ ][ ][b][ ][ ][b]\n",
      "[b][a][ ][a][b][a][b]\n",
      "[b][a][b][a][a][a][b]\n",
      "[a][b][a][a][a][b][b]\n",
      "\n",
      "Wygrywa b!\n"
     ]
    },
    {
     "data": {
      "text/plain": "'p2'"
     },
     "execution_count": 11,
     "metadata": {},
     "output_type": "execute_result"
    }
   ],
   "source": [
    "run(1, 2, True, False)"
   ],
   "metadata": {
    "collapsed": false,
    "pycharm": {
     "name": "#%%\n"
    }
   }
  },
  {
   "cell_type": "markdown",
   "source": [
    "## Testy i statystyki"
   ],
   "metadata": {
    "collapsed": false,
    "pycharm": {
     "name": "#%% md\n"
    }
   }
  },
  {
   "cell_type": "code",
   "execution_count": 12,
   "outputs": [],
   "source": [
    "def make_statistics(depth_1, depth_2, to_print):\n",
    "    runs_number = 30\n",
    "    sum_a = sum_b = sum_r = 0\n",
    "    for i in range(runs_number):\n",
    "        winner = run(depth_1, depth_2, False, False)\n",
    "        if winner == 'p1':\n",
    "            sum_a += 1\n",
    "        elif winner == 'p2':\n",
    "            sum_b += 1\n",
    "        else:\n",
    "            sum_r += 1\n",
    "    a_pct = round(100 * sum_a / runs_number)\n",
    "    b_pct = round(100 * sum_b / runs_number)\n",
    "    r_pct = round(100 * sum_r / runs_number)\n",
    "    if to_print:\n",
    "        print(\n",
    "            f\"Wygrane a: {a_pct}%, wygrane b: {b_pct}%, remisy: {r_pct}%.\")\n",
    "    return a_pct, b_pct, r_pct"
   ],
   "metadata": {
    "collapsed": false,
    "pycharm": {
     "name": "#%%\n"
    }
   }
  },
  {
   "cell_type": "markdown",
   "source": [
    "Funkcja ta uruchamia 30 gier, aby sprawdzić, który gracz wygrywa procentowo w grach o podanych parametrach (depth_1, depth_2). Obydwaj gracze to AI korzystający z algorytmu alpha_beta."
   ],
   "metadata": {
    "collapsed": false,
    "pycharm": {
     "name": "#%% md\n"
    }
   }
  },
  {
   "cell_type": "code",
   "execution_count": null,
   "outputs": [],
   "source": [
    "make_statistics(1, 1, False)"
   ],
   "metadata": {
    "collapsed": false,
    "pycharm": {
     "name": "#%%\n",
     "is_executing": true
    }
   }
  },
  {
   "cell_type": "code",
   "execution_count": 27,
   "outputs": [
    {
     "name": "stdout",
     "output_type": "stream",
     "text": [
      "Dla (d1, d2) = (1, 1):\n",
      "Wygrane a: 0%, wygrane b: 100%, remisy: 0%.\n",
      "Dla (d1, d2) = (1, 2):\n",
      "Wygrane a: 3%, wygrane b: 97%, remisy: 0%.\n",
      "Dla (d1, d2) = (1, 3):\n",
      "Wygrane a: 0%, wygrane b: 100%, remisy: 0%.\n",
      "Dla (d1, d2) = (1, 4):\n",
      "Wygrane a: 0%, wygrane b: 100%, remisy: 0%.\n",
      "Dla (d1, d2) = (1, 5):\n",
      "Wygrane a: 0%, wygrane b: 100%, remisy: 0%.\n",
      "\n",
      "\n",
      "Dla (d1, d2) = (2, 1):\n",
      "Wygrane a: 10%, wygrane b: 73%, remisy: 17%.\n",
      "Dla (d1, d2) = (2, 2):\n",
      "Wygrane a: 30%, wygrane b: 57%, remisy: 13%.\n",
      "Dla (d1, d2) = (2, 3):\n",
      "Wygrane a: 63%, wygrane b: 30%, remisy: 7%.\n",
      "Dla (d1, d2) = (2, 4):\n",
      "Wygrane a: 67%, wygrane b: 30%, remisy: 3%.\n",
      "Dla (d1, d2) = (2, 5):\n",
      "Wygrane a: 70%, wygrane b: 30%, remisy: 0%.\n",
      "\n",
      "\n",
      "Dla (d1, d2) = (3, 1):\n",
      "Wygrane a: 3%, wygrane b: 83%, remisy: 13%.\n",
      "Dla (d1, d2) = (3, 2):\n",
      "Wygrane a: 50%, wygrane b: 43%, remisy: 7%.\n",
      "Dla (d1, d2) = (3, 3):\n",
      "Wygrane a: 20%, wygrane b: 73%, remisy: 7%.\n",
      "Dla (d1, d2) = (3, 4):\n",
      "Wygrane a: 40%, wygrane b: 60%, remisy: 0%.\n",
      "Dla (d1, d2) = (3, 5):\n",
      "Wygrane a: 30%, wygrane b: 60%, remisy: 10%.\n",
      "\n",
      "\n",
      "Dla (d1, d2) = (4, 1):\n",
      "Wygrane a: 20%, wygrane b: 80%, remisy: 0%.\n",
      "Dla (d1, d2) = (4, 2):\n",
      "Wygrane a: 67%, wygrane b: 23%, remisy: 10%.\n",
      "Dla (d1, d2) = (4, 3):\n",
      "Wygrane a: 37%, wygrane b: 57%, remisy: 7%.\n",
      "Dla (d1, d2) = (4, 4):\n",
      "Wygrane a: 57%, wygrane b: 37%, remisy: 7%.\n",
      "Dla (d1, d2) = (4, 5):\n",
      "Wygrane a: 50%, wygrane b: 47%, remisy: 3%.\n",
      "\n",
      "\n",
      "Dla (d1, d2) = (5, 1):\n",
      "Wygrane a: 7%, wygrane b: 90%, remisy: 3%.\n",
      "Dla (d1, d2) = (5, 2):\n",
      "Wygrane a: 53%, wygrane b: 40%, remisy: 7%.\n",
      "Dla (d1, d2) = (5, 3):\n",
      "Wygrane a: 20%, wygrane b: 70%, remisy: 10%.\n",
      "Dla (d1, d2) = (5, 4):\n",
      "Wygrane a: 47%, wygrane b: 40%, remisy: 13%.\n",
      "Dla (d1, d2) = (5, 5):\n",
      "Wygrane a: 30%, wygrane b: 63%, remisy: 7%.\n",
      "\n",
      "\n"
     ]
    }
   ],
   "source": [
    "data = np.empty([5, 5])\n",
    "for i in range(5):\n",
    "    for j in range (5):\n",
    "        print(f\"Dla (d1, d2) = {i+1, j+1}:\")\n",
    "        result = make_statistics(i+1, j+1, True)\n",
    "        data [i, j] = result[0]\n",
    "    print(\"\\n\")"
   ],
   "metadata": {
    "collapsed": false,
    "pycharm": {
     "name": "#%%\n"
    }
   }
  },
  {
   "cell_type": "markdown",
   "source": [
    "W przypadku, gdy gracz A grał na głębkości 1, gracz B wygrywał zawsze. Gdy A grał na głębokości 2, wtedy B zwiększając głębokość zmniejszał szanse na wygraną. Dla głębokości 3, 4, 5 wystąpiły duże rozbieżności i nie widać jednoznacznego trendu."
   ],
   "metadata": {
    "collapsed": false,
    "pycharm": {
     "name": "#%% md\n"
    }
   }
  }
 ],
 "metadata": {
  "kernelspec": {
   "display_name": "Python 3",
   "language": "python",
   "name": "python3"
  },
  "language_info": {
   "codemirror_mode": {
    "name": "ipython",
    "version": 2
   },
   "file_extension": ".py",
   "mimetype": "text/x-python",
   "name": "python",
   "nbconvert_exporter": "python",
   "pygments_lexer": "ipython2",
   "version": "2.7.6"
  }
 },
 "nbformat": 4,
 "nbformat_minor": 0
}